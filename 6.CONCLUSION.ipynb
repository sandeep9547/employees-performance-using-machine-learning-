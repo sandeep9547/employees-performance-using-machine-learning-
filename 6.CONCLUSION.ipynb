{
 "cells": [
  {
   "cell_type": "code",
   "execution_count": 1,
   "metadata": {},
   "outputs": [
    {
     "name": "stdout",
     "output_type": "stream",
     "text": [
      "Requirement already satisfied: keras in f:\\kid stuff\\python\\lib\\site-packages (2.2.2)\n",
      "Requirement already satisfied: h5py in f:\\kid stuff\\python\\lib\\site-packages (from keras) (2.7.1)\n",
      "Requirement already satisfied: numpy>=1.9.1 in f:\\kid stuff\\python\\lib\\site-packages (from keras) (1.14.3)\n",
      "Requirement already satisfied: scipy>=0.14 in f:\\kid stuff\\python\\lib\\site-packages (from keras) (1.1.0)\n",
      "Requirement already satisfied: six>=1.9.0 in f:\\kid stuff\\python\\lib\\site-packages (from keras) (1.11.0)\n",
      "Requirement already satisfied: pyyaml in f:\\kid stuff\\python\\lib\\site-packages (from keras) (3.12)\n",
      "Requirement already satisfied: keras-preprocessing==1.0.2 in f:\\kid stuff\\python\\lib\\site-packages (from keras) (1.0.2)\n",
      "Requirement already satisfied: keras-applications==1.0.4 in f:\\kid stuff\\python\\lib\\site-packages (from keras) (1.0.4)\n",
      "PART ONE\n"
     ]
    },
    {
     "name": "stderr",
     "output_type": "stream",
     "text": [
      "distributed 1.21.8 requires msgpack, which is not installed.\n",
      "You are using pip version 10.0.1, however version 19.0.3 is available.\n",
      "You should consider upgrading via the 'python -m pip install --upgrade pip' command.\n"
     ]
    },
    {
     "name": "stdout",
     "output_type": "stream",
     "text": [
      "EmpNumber\n",
      "Gender\n",
      "EducationBackground\n",
      "MaritalStatus\n",
      "EmpDepartment\n",
      "EmpJobRole\n",
      "BusinessTravelFrequency\n",
      "OverTime\n",
      "Attrition\n",
      "EmpDepartment           PerformanceRating\n",
      "Data Science            3                     17\n",
      "                        4                      2\n",
      "                        2                      1\n",
      "Development             3                    304\n",
      "                        4                     44\n",
      "                        2                     13\n",
      "Finance                 3                     30\n",
      "                        2                     15\n",
      "                        4                      4\n",
      "Human Resources         3                     38\n",
      "                        2                     10\n",
      "                        4                      6\n",
      "Research & Development  3                    234\n",
      "                        2                     68\n",
      "                        4                     41\n",
      "Sales                   3                    251\n",
      "                        2                     87\n",
      "                        4                     35\n",
      "Name: PerformanceRating, dtype: int64\n"
     ]
    },
    {
     "name": "stderr",
     "output_type": "stream",
     "text": [
      "F:\\kid stuff\\python\\lib\\site-packages\\h5py\\__init__.py:36: FutureWarning: Conversion of the second argument of issubdtype from `float` to `np.floating` is deprecated. In future, it will be treated as `np.float64 == np.dtype(float).type`.\n",
      "  from ._conv import register_converters as _register_converters\n",
      "Using TensorFlow backend.\n",
      "F:\\kid stuff\\python\\lib\\site-packages\\sklearn\\cross_validation.py:41: DeprecationWarning: This module was deprecated in version 0.18 in favor of the model_selection module into which all the refactored classes and functions are moved. Also note that the interface of the new CV iterators are different from that of this module. This module will be removed in 0.20.\n",
      "  \"This module will be removed in 0.20.\", DeprecationWarning)\n"
     ]
    },
    {
     "name": "stdout",
     "output_type": "stream",
     "text": [
      "0.9208333333333333\n"
     ]
    },
    {
     "data": {
      "text/plain": [
       "<Figure size 1000x1000 with 1 Axes>"
      ]
     },
     "metadata": {},
     "output_type": "display_data"
    },
    {
     "name": "stdout",
     "output_type": "stream",
     "text": [
      "0.9125\n",
      "0.8625\n",
      "0.8125\n"
     ]
    },
    {
     "data": {
      "text/plain": [
       "<Figure size 500x500 with 1 Axes>"
      ]
     },
     "metadata": {},
     "output_type": "display_data"
    },
    {
     "data": {
      "text/plain": [
       "<Figure size 900x500 with 1 Axes>"
      ]
     },
     "metadata": {},
     "output_type": "display_data"
    },
    {
     "name": "stdout",
     "output_type": "stream",
     "text": [
      "EducationBackground  PerformanceRating\n",
      "0                    3                     16\n",
      "                     2                      3\n",
      "                     4                      2\n",
      "1                    3                    357\n",
      "                     2                     78\n",
      "                     4                     57\n",
      "2                    3                     94\n",
      "                     2                     29\n",
      "                     4                     14\n",
      "3                    3                    281\n",
      "                     2                     63\n",
      "                     4                     40\n",
      "4                    3                     56\n",
      "                     4                      7\n",
      "                     2                      3\n",
      "5                    3                     70\n",
      "                     2                     18\n",
      "                     4                     12\n",
      "Name: PerformanceRating, dtype: int64\n"
     ]
    },
    {
     "data": {
      "text/plain": [
       "<Figure size 900x500 with 1 Axes>"
      ]
     },
     "metadata": {},
     "output_type": "display_data"
    },
    {
     "name": "stdout",
     "output_type": "stream",
     "text": [
      "Gender  PerformanceRating\n",
      "0       3                    349\n",
      "        2                     75\n",
      "        4                     51\n",
      "1       3                    525\n",
      "        2                    119\n",
      "        4                     81\n",
      "Name: PerformanceRating, dtype: int64\n"
     ]
    },
    {
     "data": {
      "text/plain": [
       "<Figure size 900x500 with 1 Axes>"
      ]
     },
     "metadata": {},
     "output_type": "display_data"
    },
    {
     "name": "stdout",
     "output_type": "stream",
     "text": [
      "MaritalStatus  PerformanceRating\n",
      "0              3                    205\n",
      "               2                     37\n",
      "               4                     26\n",
      "1              3                    393\n",
      "               2                    100\n",
      "               4                     55\n",
      "2              3                    276\n",
      "               2                     57\n",
      "               4                     51\n",
      "Name: PerformanceRating, dtype: int64\n"
     ]
    },
    {
     "data": {
      "text/plain": [
       "<Figure size 1200x500 with 1 Axes>"
      ]
     },
     "metadata": {},
     "output_type": "display_data"
    },
    {
     "name": "stdout",
     "output_type": "stream",
     "text": [
      "EmpDepartment  PerformanceRating\n",
      "0              3                     17\n",
      "               4                      2\n",
      "               2                      1\n",
      "1              3                    304\n",
      "               4                     44\n",
      "               2                     13\n",
      "2              3                     30\n",
      "               2                     15\n",
      "               4                      4\n",
      "3              3                     38\n",
      "               2                     10\n",
      "               4                      6\n",
      "4              3                    234\n",
      "               2                     68\n",
      "               4                     41\n",
      "5              3                    251\n",
      "               2                     87\n",
      "               4                     35\n",
      "Name: PerformanceRating, dtype: int64\n"
     ]
    },
    {
     "data": {
      "text/plain": [
       "<Figure size 2500x1000 with 1 Axes>"
      ]
     },
     "metadata": {},
     "output_type": "display_data"
    },
    {
     "name": "stdout",
     "output_type": "stream",
     "text": [
      "EmpJobRole                 PerformanceRating\n",
      "Business Analyst           3                     13\n",
      "                           4                      3\n",
      "Data Scientist             3                     17\n",
      "                           4                      2\n",
      "                           2                      1\n",
      "Delivery Manager           3                     12\n",
      "Developer                  3                    199\n",
      "                           4                     31\n",
      "                           2                      6\n",
      "Finance Manager            3                     30\n",
      "                           2                     15\n",
      "                           4                      4\n",
      "Healthcare Representative  3                     22\n",
      "                           2                      8\n",
      "                           4                      3\n",
      "Human Resources            3                     31\n",
      "                           2                      9\n",
      "                           4                      5\n",
      "Laboratory Technician      3                     45\n",
      "                           2                     14\n",
      "                           4                      5\n",
      "Manager                    3                     29\n",
      "                           2                     12\n",
      "                           4                     10\n",
      "Manager R&D                3                     66\n",
      "                           2                     17\n",
      "                           4                     11\n",
      "Manufacturing Director     3                     28\n",
      "                           2                      3\n",
      "                           4                      2\n",
      "Research Director          3                     11\n",
      "                           2                      5\n",
      "                           4                      3\n",
      "Research Scientist         3                     46\n",
      "                           2                     17\n",
      "                           4                     14\n",
      "Sales Executive            3                    181\n",
      "                           2                     64\n",
      "                           4                     25\n",
      "Sales Representative       3                     54\n",
      "                           2                     12\n",
      "                           4                      3\n",
      "Senior Developer           3                     40\n",
      "                           2                      6\n",
      "                           4                      6\n",
      "Senior Manager R&D         3                     10\n",
      "                           2                      4\n",
      "                           4                      1\n",
      "Technical Architect        3                      7\n",
      "Technical Lead             3                     33\n",
      "                           4                      4\n",
      "                           2                      1\n",
      "Name: PerformanceRating, dtype: int64\n"
     ]
    },
    {
     "data": {
      "text/plain": [
       "<Figure size 700x500 with 1 Axes>"
      ]
     },
     "metadata": {},
     "output_type": "display_data"
    },
    {
     "name": "stdout",
     "output_type": "stream",
     "text": [
      "BusinessTravelFrequency  PerformanceRating\n",
      "0                        3                     93\n",
      "                         2                     21\n",
      "                         4                     18\n",
      "1                        3                    154\n",
      "                         2                     37\n",
      "                         4                     31\n",
      "2                        3                    627\n",
      "                         2                    136\n",
      "                         4                     83\n",
      "Name: PerformanceRating, dtype: int64\n"
     ]
    },
    {
     "data": {
      "text/plain": [
       "<Figure size 700x500 with 1 Axes>"
      ]
     },
     "metadata": {},
     "output_type": "display_data"
    },
    {
     "name": "stdout",
     "output_type": "stream",
     "text": [
      "Attrition  PerformanceRating\n",
      "0          3                    750\n",
      "           2                    158\n",
      "           4                    114\n",
      "1          3                    124\n",
      "           2                     36\n",
      "           4                     18\n",
      "Name: PerformanceRating, dtype: int64\n"
     ]
    }
   ],
   "source": [
    "%run 5.Visualization.ipynb"
   ]
  },
  {
   "cell_type": "markdown",
   "metadata": {},
   "source": [
    " # <span style='color:blue'>Recommendations improve the employee performance based on insights from analysis.<span>"
   ]
  },
  {
   "cell_type": "markdown",
   "metadata": {},
   "source": [
    "### 1) Candidates between 31years to 40 years of age tend to Perform better at Ranking 4.\n",
    "### 2) Candidates with +15 years total experience tend to be average performers. (Rating3)\n",
    "### 3) Candidates with 12 to 15 years of experience show higher probability of better performance (Rating4)\n",
    "### 4) Candidates with 1 year of experience have very high probaility of high-performance (Rating4) however, these candidates also have at least 50% probability of attrition."
   ]
  },
  {
   "cell_type": "code",
   "execution_count": null,
   "metadata": {},
   "outputs": [],
   "source": []
  }
 ],
 "metadata": {
  "kernelspec": {
   "display_name": "Python 3",
   "language": "python",
   "name": "python3"
  },
  "language_info": {
   "codemirror_mode": {
    "name": "ipython",
    "version": 3
   },
   "file_extension": ".py",
   "mimetype": "text/x-python",
   "name": "python",
   "nbconvert_exporter": "python",
   "pygments_lexer": "ipython3",
   "version": "3.6.5"
  }
 },
 "nbformat": 4,
 "nbformat_minor": 2
}

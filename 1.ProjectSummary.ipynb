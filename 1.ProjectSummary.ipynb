{
 "cells": [
  {
   "cell_type": "markdown",
   "metadata": {},
   "source": [
    "# Project Introduction:\n",
    "### The given dataset represents Employee performance data from INX Future Inc.\n",
    "### Sufficient effort is made to clearly understand the goals of the analysis and target outcomes for INX Future Inc.\n",
    "### The approach is to first explore the dataset, decide appropriate treatement of the dataset and then address the four desired insights from this project.\n",
    "### 1. Department wise performances.\n",
    "### 2. Top 3 Important Factors effecting employee performance.\n",
    "### 3. A trained model which can predict the employee performance based on factors as inputs. This will be used to hire employees\n",
    "### 4. Recommendations to improve the employee performance based on insights from analysis."
   ]
  },
  {
   "cell_type": "code",
   "execution_count": 2,
   "metadata": {},
   "outputs": [
    {
     "name": "stdout",
     "output_type": "stream",
     "text": [
      "PART ONE\n"
     ]
    }
   ],
   "source": [
    "print(\"PART ONE\")"
   ]
  },
  {
   "cell_type": "code",
   "execution_count": null,
   "metadata": {},
   "outputs": [],
   "source": []
  }
 ],
 "metadata": {
  "kernelspec": {
   "display_name": "Python 3",
   "language": "python",
   "name": "python3"
  },
  "language_info": {
   "codemirror_mode": {
    "name": "ipython",
    "version": 3
   },
   "file_extension": ".py",
   "mimetype": "text/x-python",
   "name": "python",
   "nbconvert_exporter": "python",
   "pygments_lexer": "ipython3",
   "version": "3.6.5"
  }
 },
 "nbformat": 4,
 "nbformat_minor": 2
}
